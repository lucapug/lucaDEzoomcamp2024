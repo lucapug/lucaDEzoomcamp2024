{
 "cells": [
  {
   "cell_type": "code",
   "execution_count": 1,
   "metadata": {},
   "outputs": [],
   "source": [
    "import json\n",
    "import time "
   ]
  },
  {
   "cell_type": "code",
   "execution_count": 2,
   "metadata": {},
   "outputs": [],
   "source": [
    "from kafka import KafkaProducer"
   ]
  },
  {
   "cell_type": "code",
   "execution_count": 3,
   "metadata": {},
   "outputs": [],
   "source": [
    "def json_serializer(data):\n",
    "    return json.dumps(data).encode('utf-8')\n",
    "\n",
    "server = 'localhost:9092'\n",
    "\n",
    "producer = KafkaProducer(\n",
    "    bootstrap_servers=[server],\n",
    "    value_serializer=json_serializer\n",
    ")"
   ]
  },
  {
   "cell_type": "code",
   "execution_count": 4,
   "metadata": {},
   "outputs": [
    {
     "data": {
      "text/plain": [
       "True"
      ]
     },
     "execution_count": 4,
     "metadata": {},
     "output_type": "execute_result"
    }
   ],
   "source": [
    "producer.bootstrap_connected()"
   ]
  },
  {
   "cell_type": "code",
   "execution_count": null,
   "metadata": {},
   "outputs": [],
   "source": [
    "#Now we're ready to send some test data:\n",
    "\n",
    "t0 = time.time()\n",
    "\n",
    "topic_name = 'test-topic'\n",
    "\n",
    "for i in range(10):\n",
    "    message = {'number': i}\n",
    "    producer.send(topic_name, value=message)\n",
    "    print(f\"Sent: {message}\")\n",
    "    time.sleep(0.05)\n",
    "\n",
    "producer.flush()\n",
    "\n",
    "t1 = time.time()\n",
    "print(f'took {(t1 - t0):.2f} seconds')"
   ]
  },
  {
   "cell_type": "code",
   "execution_count": null,
   "metadata": {},
   "outputs": [],
   "source": [
    "#Green taxi trip data - web to local\n",
    "\n",
    "#!wget https://github.com/DataTalksClub/nyc-tlc-data/releases/download/green/green_tripdata_2019-10.csv.gz\n",
    "\n",
    "#!gunzip -c green_tripdata_2019-10.csv.gz > green_tripdata_2019-10.csv\n",
    "\n",
    "#!rm green_tripdata_2019-10.csv.gz"
   ]
  },
  {
   "cell_type": "code",
   "execution_count": 5,
   "metadata": {},
   "outputs": [
    {
     "name": "stdout",
     "output_type": "stream",
     "text": [
      "24/04/08 20:04:22 WARN Utils: Your hostname, codespaces-68eae1 resolves to a loopback address: 127.0.0.1; using 172.16.5.4 instead (on interface eth0)\n",
      "24/04/08 20:04:22 WARN Utils: Set SPARK_LOCAL_IP if you need to bind to another address\n",
      ":: loading settings :: url = jar:file:/usr/local/sdkman/candidates/spark/3.3.2/jars/ivy-2.5.1.jar!/org/apache/ivy/core/settings/ivysettings.xml\n"
     ]
    },
    {
     "name": "stderr",
     "output_type": "stream",
     "text": [
      "Ivy Default Cache set to: /home/codespace/.ivy2/cache\n",
      "The jars for the packages stored in: /home/codespace/.ivy2/jars\n",
      "org.apache.spark#spark-sql-kafka-0-10_2.12 added as a dependency\n",
      ":: resolving dependencies :: org.apache.spark#spark-submit-parent-6fbd12ae-7105-4d8a-be37-8a4a42b5959b;1.0\n",
      "\tconfs: [default]\n",
      "\tfound org.apache.spark#spark-sql-kafka-0-10_2.12;3.3.2 in central\n",
      "\tfound org.apache.spark#spark-token-provider-kafka-0-10_2.12;3.3.2 in central\n",
      "\tfound org.apache.kafka#kafka-clients;2.8.1 in central\n",
      "\tfound org.lz4#lz4-java;1.8.0 in central\n",
      "\tfound org.xerial.snappy#snappy-java;1.1.8.4 in central\n",
      "\tfound org.slf4j#slf4j-api;1.7.32 in central\n",
      "\tfound org.apache.hadoop#hadoop-client-runtime;3.3.2 in central\n",
      "\tfound org.spark-project.spark#unused;1.0.0 in central\n",
      "\tfound org.apache.hadoop#hadoop-client-api;3.3.2 in central\n",
      "\tfound commons-logging#commons-logging;1.1.3 in central\n",
      "\tfound com.google.code.findbugs#jsr305;3.0.0 in central\n",
      "\tfound org.apache.commons#commons-pool2;2.11.1 in central\n",
      ":: resolution report :: resolve 1256ms :: artifacts dl 32ms\n",
      "\t:: modules in use:\n",
      "\tcom.google.code.findbugs#jsr305;3.0.0 from central in [default]\n",
      "\tcommons-logging#commons-logging;1.1.3 from central in [default]\n",
      "\torg.apache.commons#commons-pool2;2.11.1 from central in [default]\n",
      "\torg.apache.hadoop#hadoop-client-api;3.3.2 from central in [default]\n",
      "\torg.apache.hadoop#hadoop-client-runtime;3.3.2 from central in [default]\n",
      "\torg.apache.kafka#kafka-clients;2.8.1 from central in [default]\n",
      "\torg.apache.spark#spark-sql-kafka-0-10_2.12;3.3.2 from central in [default]\n",
      "\torg.apache.spark#spark-token-provider-kafka-0-10_2.12;3.3.2 from central in [default]\n",
      "\torg.lz4#lz4-java;1.8.0 from central in [default]\n",
      "\torg.slf4j#slf4j-api;1.7.32 from central in [default]\n",
      "\torg.spark-project.spark#unused;1.0.0 from central in [default]\n",
      "\torg.xerial.snappy#snappy-java;1.1.8.4 from central in [default]\n",
      "\t---------------------------------------------------------------------\n",
      "\t|                  |            modules            ||   artifacts   |\n",
      "\t|       conf       | number| search|dwnlded|evicted|| number|dwnlded|\n",
      "\t---------------------------------------------------------------------\n",
      "\t|      default     |   12  |   0   |   0   |   0   ||   12  |   0   |\n",
      "\t---------------------------------------------------------------------\n",
      ":: retrieving :: org.apache.spark#spark-submit-parent-6fbd12ae-7105-4d8a-be37-8a4a42b5959b\n",
      "\tconfs: [default]\n",
      "\t0 artifacts copied, 12 already retrieved (0kB/20ms)\n"
     ]
    },
    {
     "name": "stdout",
     "output_type": "stream",
     "text": [
      "24/04/08 20:04:25 WARN NativeCodeLoader: Unable to load native-hadoop library for your platform... using builtin-java classes where applicable\n"
     ]
    },
    {
     "name": "stderr",
     "output_type": "stream",
     "text": [
      "Setting default log level to \"WARN\".\n",
      "To adjust logging level use sc.setLogLevel(newLevel). For SparkR, use setLogLevel(newLevel).\n"
     ]
    }
   ],
   "source": [
    "import findspark\n",
    "findspark.init(\"/usr/local/sdkman/candidates/spark/current\")\n",
    "\n",
    "import pyspark\n",
    "from pyspark.sql import SparkSession\n",
    "\n",
    "pyspark_version = pyspark.__version__\n",
    "kafka_jar_package = f\"org.apache.spark:spark-sql-kafka-0-10_2.12:{pyspark_version}\"\n",
    "\n",
    "spark = SparkSession \\\n",
    "    .builder \\\n",
    "    .master(\"local[*]\") \\\n",
    "    .appName(\"GreenTripsConsumer\") \\\n",
    "    .config(\"spark.jars.packages\", kafka_jar_package) \\\n",
    "    .getOrCreate()"
   ]
  },
  {
   "cell_type": "code",
   "execution_count": 6,
   "metadata": {},
   "outputs": [],
   "source": [
    "df = spark.read \\\n",
    "    .option(\"header\", \"true\") \\\n",
    "    .csv('green_tripdata_2019-10.csv')"
   ]
  },
  {
   "cell_type": "code",
   "execution_count": null,
   "metadata": {},
   "outputs": [],
   "source": [
    "df.show()"
   ]
  },
  {
   "cell_type": "code",
   "execution_count": 7,
   "metadata": {},
   "outputs": [],
   "source": [
    "df_green = df.select('lpep_pickup_datetime',\n",
    "    'lpep_dropoff_datetime',\n",
    "    'PULocationID',\n",
    "    'DOLocationID',\n",
    "    'passenger_count',\n",
    "    'trip_distance',\n",
    "    'tip_amount')"
   ]
  },
  {
   "cell_type": "code",
   "execution_count": null,
   "metadata": {},
   "outputs": [],
   "source": [
    "df_green.show()"
   ]
  },
  {
   "cell_type": "code",
   "execution_count": 8,
   "metadata": {},
   "outputs": [
    {
     "name": "stderr",
     "output_type": "stream",
     "text": [
      "                                                                                \r"
     ]
    },
    {
     "name": "stdout",
     "output_type": "stream",
     "text": [
      "{'lpep_pickup_datetime': '2019-10-01 00:26:02', 'lpep_dropoff_datetime': '2019-10-01 00:39:58', 'PULocationID': '112', 'DOLocationID': '196', 'passenger_count': '1', 'trip_distance': '5.88', 'tip_amount': '0'}\n"
     ]
    }
   ],
   "source": [
    "df_green_pd = df_green.toPandas()\n",
    "\n",
    "for row in df_green_pd.itertuples(index=False):\n",
    "    row_dict = {col: getattr(row, col) for col in row._fields}\n",
    "    print(row_dict)\n",
    "    break"
   ]
  },
  {
   "cell_type": "code",
   "execution_count": null,
   "metadata": {},
   "outputs": [],
   "source": [
    "# producer sends row by row the green taxi data to the green-trips topic\n",
    "\n",
    "t0 = time.time()\n",
    "\n",
    "topic_name = 'green-trips'\n",
    "\n",
    "for row in df_green_pd.itertuples(index=False):\n",
    "    message = {col: getattr(row, col) for col in row._fields}\n",
    "    producer.send(topic_name, value=message)\n",
    "    #print(f\"Sent: {message}\")\n",
    "    #time.sleep(0.05)\n",
    "\n",
    "producer.flush()\n",
    "\n",
    "t1 = time.time()\n",
    "print(f'took {(t1 - t0):.2f} seconds')"
   ]
  },
  {
   "cell_type": "code",
   "execution_count": 9,
   "metadata": {},
   "outputs": [],
   "source": [
    "green_stream = spark \\\n",
    "    .readStream \\\n",
    "    .format(\"kafka\") \\\n",
    "    .option(\"kafka.bootstrap.servers\", \"localhost:9092\") \\\n",
    "    .option(\"subscribe\", \"green-trips\") \\\n",
    "    .option(\"startingOffsets\", \"earliest\") \\\n",
    "    .load()"
   ]
  },
  {
   "cell_type": "code",
   "execution_count": null,
   "metadata": {},
   "outputs": [],
   "source": [
    "def peek(mini_batch, batch_id):\n",
    "    first_row = mini_batch.take(1)\n",
    "\n",
    "    if first_row:\n",
    "        print(first_row[0])\n",
    "\n",
    "query = green_stream.writeStream.foreachBatch(peek).start()"
   ]
  },
  {
   "cell_type": "code",
   "execution_count": null,
   "metadata": {},
   "outputs": [],
   "source": [
    "query.stop()"
   ]
  },
  {
   "cell_type": "code",
   "execution_count": null,
   "metadata": {},
   "outputs": [],
   "source": [
    "from pyspark.sql import types\n",
    "\n",
    "schema = types.StructType() \\\n",
    "    .add(\"lpep_pickup_datetime\", types.StringType()) \\\n",
    "    .add(\"lpep_dropoff_datetime\", types.StringType()) \\\n",
    "    .add(\"PULocationID\", types.IntegerType()) \\\n",
    "    .add(\"DOLocationID\", types.IntegerType()) \\\n",
    "    .add(\"passenger_count\", types.DoubleType()) \\\n",
    "    .add(\"trip_distance\", types.DoubleType()) \\\n",
    "    .add(\"tip_amount\", types.DoubleType())"
   ]
  },
  {
   "cell_type": "code",
   "execution_count": null,
   "metadata": {},
   "outputs": [],
   "source": [
    "from pyspark.sql import functions as F\n",
    "\n",
    "green_stream = green_stream \\\n",
    "  .select(F.from_json(F.col(\"value\").cast('STRING'), schema).alias(\"data\")) \\\n",
    "  .select(\"data.*\")"
   ]
  },
  {
   "cell_type": "code",
   "execution_count": null,
   "metadata": {},
   "outputs": [],
   "source": [
    "#for the output result of this query see query cell above\n",
    "query = green_stream.writeStream.foreachBatch(peek).start()"
   ]
  },
  {
   "cell_type": "code",
   "execution_count": null,
   "metadata": {},
   "outputs": [],
   "source": [
    "query.stop()"
   ]
  },
  {
   "cell_type": "code",
   "execution_count": 29,
   "metadata": {},
   "outputs": [],
   "source": [
    "#add timestamp column\n",
    "\n",
    "#from pyspark.sql.functions import current_timestamp\n",
    "from pyspark.sql import functions as F\n",
    "\n",
    "df_green_with_ts = df_green.withColumn(\"timestamp\", F.current_timestamp())\n",
    "        \n",
    "#popular_destinations = df_green_with_ts.groupby([F.window(\"timestamp\", \"5 minutes\"), df_green_with_ts.DOLocationID])\\\n",
    "#    .count().sort(F.col(\"count\").desc())\n",
    "    \n",
    "popular_destinations = df_green_with_ts.groupby([F.window(\"timestamp\", \"5 minutes\"), df_green_with_ts.DOLocationID])\\\n",
    "    .agg(F.count(\"*\").alias(\"count\")).sort(F.col(\"count\").desc())\n",
    "\n",
    " "
   ]
  },
  {
   "cell_type": "code",
   "execution_count": 24,
   "metadata": {},
   "outputs": [
    {
     "name": "stderr",
     "output_type": "stream",
     "text": [
      "                                                                                \r"
     ]
    },
    {
     "name": "stdout",
     "output_type": "stream",
     "text": [
      "{'window': Row(start=datetime.datetime(2024, 4, 8, 21, 25), end=datetime.datetime(2024, 4, 8, 21, 30)), 'DOLocationID': '74', 'count': 17741}\n",
      "{'window': Row(start=datetime.datetime(2024, 4, 8, 21, 25), end=datetime.datetime(2024, 4, 8, 21, 30)), 'DOLocationID': '42', 'count': 15942}\n",
      "{'window': Row(start=datetime.datetime(2024, 4, 8, 21, 25), end=datetime.datetime(2024, 4, 8, 21, 30)), 'DOLocationID': '41', 'count': 14061}\n",
      "{'window': Row(start=datetime.datetime(2024, 4, 8, 21, 25), end=datetime.datetime(2024, 4, 8, 21, 30)), 'DOLocationID': '75', 'count': 12840}\n",
      "{'window': Row(start=datetime.datetime(2024, 4, 8, 21, 25), end=datetime.datetime(2024, 4, 8, 21, 30)), 'DOLocationID': '129', 'count': 11930}\n",
      "{'window': Row(start=datetime.datetime(2024, 4, 8, 21, 25), end=datetime.datetime(2024, 4, 8, 21, 30)), 'DOLocationID': '7', 'count': 11533}\n",
      "{'window': Row(start=datetime.datetime(2024, 4, 8, 21, 25), end=datetime.datetime(2024, 4, 8, 21, 30)), 'DOLocationID': '166', 'count': 10845}\n",
      "{'window': Row(start=datetime.datetime(2024, 4, 8, 21, 25), end=datetime.datetime(2024, 4, 8, 21, 30)), 'DOLocationID': '236', 'count': 7913}\n",
      "{'window': Row(start=datetime.datetime(2024, 4, 8, 21, 25), end=datetime.datetime(2024, 4, 8, 21, 30)), 'DOLocationID': '223', 'count': 7542}\n",
      "{'window': Row(start=datetime.datetime(2024, 4, 8, 21, 25), end=datetime.datetime(2024, 4, 8, 21, 30)), 'DOLocationID': '238', 'count': 7318}\n",
      "{'window': Row(start=datetime.datetime(2024, 4, 8, 21, 25), end=datetime.datetime(2024, 4, 8, 21, 30)), 'DOLocationID': '82', 'count': 7292}\n",
      "{'window': Row(start=datetime.datetime(2024, 4, 8, 21, 25), end=datetime.datetime(2024, 4, 8, 21, 30)), 'DOLocationID': '181', 'count': 7282}\n",
      "{'window': Row(start=datetime.datetime(2024, 4, 8, 21, 25), end=datetime.datetime(2024, 4, 8, 21, 30)), 'DOLocationID': '95', 'count': 7244}\n",
      "{'window': Row(start=datetime.datetime(2024, 4, 8, 21, 25), end=datetime.datetime(2024, 4, 8, 21, 30)), 'DOLocationID': '244', 'count': 6733}\n",
      "{'window': Row(start=datetime.datetime(2024, 4, 8, 21, 25), end=datetime.datetime(2024, 4, 8, 21, 30)), 'DOLocationID': '61', 'count': 6606}\n",
      "{'window': Row(start=datetime.datetime(2024, 4, 8, 21, 25), end=datetime.datetime(2024, 4, 8, 21, 30)), 'DOLocationID': '116', 'count': 6339}\n",
      "{'window': Row(start=datetime.datetime(2024, 4, 8, 21, 25), end=datetime.datetime(2024, 4, 8, 21, 30)), 'DOLocationID': '138', 'count': 6144}\n",
      "{'window': Row(start=datetime.datetime(2024, 4, 8, 21, 25), end=datetime.datetime(2024, 4, 8, 21, 30)), 'DOLocationID': '97', 'count': 6050}\n",
      "{'window': Row(start=datetime.datetime(2024, 4, 8, 21, 25), end=datetime.datetime(2024, 4, 8, 21, 30)), 'DOLocationID': '49', 'count': 5221}\n",
      "{'window': Row(start=datetime.datetime(2024, 4, 8, 21, 25), end=datetime.datetime(2024, 4, 8, 21, 30)), 'DOLocationID': '151', 'count': 5153}\n",
      "{'window': Row(start=datetime.datetime(2024, 4, 8, 21, 25), end=datetime.datetime(2024, 4, 8, 21, 30)), 'DOLocationID': '33', 'count': 4998}\n",
      "{'window': Row(start=datetime.datetime(2024, 4, 8, 21, 25), end=datetime.datetime(2024, 4, 8, 21, 30)), 'DOLocationID': '260', 'count': 4992}\n",
      "{'window': Row(start=datetime.datetime(2024, 4, 8, 21, 25), end=datetime.datetime(2024, 4, 8, 21, 30)), 'DOLocationID': '226', 'count': 4970}\n",
      "{'window': Row(start=datetime.datetime(2024, 4, 8, 21, 25), end=datetime.datetime(2024, 4, 8, 21, 30)), 'DOLocationID': '263', 'count': 4699}\n",
      "{'window': Row(start=datetime.datetime(2024, 4, 8, 21, 25), end=datetime.datetime(2024, 4, 8, 21, 30)), 'DOLocationID': '152', 'count': 4669}\n",
      "{'window': Row(start=datetime.datetime(2024, 4, 8, 21, 25), end=datetime.datetime(2024, 4, 8, 21, 30)), 'DOLocationID': '179', 'count': 4534}\n",
      "{'window': Row(start=datetime.datetime(2024, 4, 8, 21, 25), end=datetime.datetime(2024, 4, 8, 21, 30)), 'DOLocationID': '239', 'count': 4430}\n",
      "{'window': Row(start=datetime.datetime(2024, 4, 8, 21, 25), end=datetime.datetime(2024, 4, 8, 21, 30)), 'DOLocationID': '25', 'count': 4373}\n",
      "{'window': Row(start=datetime.datetime(2024, 4, 8, 21, 25), end=datetime.datetime(2024, 4, 8, 21, 30)), 'DOLocationID': '17', 'count': 4106}\n",
      "{'window': Row(start=datetime.datetime(2024, 4, 8, 21, 25), end=datetime.datetime(2024, 4, 8, 21, 30)), 'DOLocationID': '237', 'count': 3567}\n",
      "{'window': Row(start=datetime.datetime(2024, 4, 8, 21, 25), end=datetime.datetime(2024, 4, 8, 21, 30)), 'DOLocationID': '56', 'count': 3509}\n",
      "{'window': Row(start=datetime.datetime(2024, 4, 8, 21, 25), end=datetime.datetime(2024, 4, 8, 21, 30)), 'DOLocationID': '225', 'count': 3471}\n",
      "{'window': Row(start=datetime.datetime(2024, 4, 8, 21, 25), end=datetime.datetime(2024, 4, 8, 21, 30)), 'DOLocationID': '188', 'count': 3300}\n",
      "{'window': Row(start=datetime.datetime(2024, 4, 8, 21, 25), end=datetime.datetime(2024, 4, 8, 21, 30)), 'DOLocationID': '65', 'count': 3220}\n",
      "{'window': Row(start=datetime.datetime(2024, 4, 8, 21, 25), end=datetime.datetime(2024, 4, 8, 21, 30)), 'DOLocationID': '76', 'count': 3214}\n",
      "{'window': Row(start=datetime.datetime(2024, 4, 8, 21, 25), end=datetime.datetime(2024, 4, 8, 21, 30)), 'DOLocationID': '89', 'count': 3155}\n",
      "{'window': Row(start=datetime.datetime(2024, 4, 8, 21, 25), end=datetime.datetime(2024, 4, 8, 21, 30)), 'DOLocationID': '142', 'count': 3079}\n",
      "{'window': Row(start=datetime.datetime(2024, 4, 8, 21, 25), end=datetime.datetime(2024, 4, 8, 21, 30)), 'DOLocationID': '168', 'count': 3060}\n",
      "{'window': Row(start=datetime.datetime(2024, 4, 8, 21, 25), end=datetime.datetime(2024, 4, 8, 21, 30)), 'DOLocationID': '173', 'count': 2987}\n",
      "{'window': Row(start=datetime.datetime(2024, 4, 8, 21, 25), end=datetime.datetime(2024, 4, 8, 21, 30)), 'DOLocationID': '130', 'count': 2941}\n",
      "{'window': Row(start=datetime.datetime(2024, 4, 8, 21, 25), end=datetime.datetime(2024, 4, 8, 21, 30)), 'DOLocationID': '145', 'count': 2899}\n",
      "{'window': Row(start=datetime.datetime(2024, 4, 8, 21, 25), end=datetime.datetime(2024, 4, 8, 21, 30)), 'DOLocationID': '140', 'count': 2853}\n",
      "{'window': Row(start=datetime.datetime(2024, 4, 8, 21, 25), end=datetime.datetime(2024, 4, 8, 21, 30)), 'DOLocationID': '40', 'count': 2842}\n",
      "{'window': Row(start=datetime.datetime(2024, 4, 8, 21, 25), end=datetime.datetime(2024, 4, 8, 21, 30)), 'DOLocationID': '83', 'count': 2812}\n",
      "{'window': Row(start=datetime.datetime(2024, 4, 8, 21, 25), end=datetime.datetime(2024, 4, 8, 21, 30)), 'DOLocationID': '43', 'count': 2809}\n",
      "{'window': Row(start=datetime.datetime(2024, 4, 8, 21, 25), end=datetime.datetime(2024, 4, 8, 21, 30)), 'DOLocationID': '196', 'count': 2772}\n",
      "{'window': Row(start=datetime.datetime(2024, 4, 8, 21, 25), end=datetime.datetime(2024, 4, 8, 21, 30)), 'DOLocationID': '243', 'count': 2754}\n",
      "{'window': Row(start=datetime.datetime(2024, 4, 8, 21, 25), end=datetime.datetime(2024, 4, 8, 21, 30)), 'DOLocationID': '141', 'count': 2559}\n",
      "{'window': Row(start=datetime.datetime(2024, 4, 8, 21, 25), end=datetime.datetime(2024, 4, 8, 21, 30)), 'DOLocationID': '193', 'count': 2514}\n",
      "{'window': Row(start=datetime.datetime(2024, 4, 8, 21, 25), end=datetime.datetime(2024, 4, 8, 21, 30)), 'DOLocationID': '112', 'count': 2484}\n",
      "{'window': Row(start=datetime.datetime(2024, 4, 8, 21, 25), end=datetime.datetime(2024, 4, 8, 21, 30)), 'DOLocationID': '69', 'count': 2446}\n",
      "{'window': Row(start=datetime.datetime(2024, 4, 8, 21, 25), end=datetime.datetime(2024, 4, 8, 21, 30)), 'DOLocationID': '197', 'count': 2409}\n",
      "{'window': Row(start=datetime.datetime(2024, 4, 8, 21, 25), end=datetime.datetime(2024, 4, 8, 21, 30)), 'DOLocationID': '134', 'count': 2399}\n",
      "{'window': Row(start=datetime.datetime(2024, 4, 8, 21, 25), end=datetime.datetime(2024, 4, 8, 21, 30)), 'DOLocationID': '189', 'count': 2381}\n",
      "{'window': Row(start=datetime.datetime(2024, 4, 8, 21, 25), end=datetime.datetime(2024, 4, 8, 21, 30)), 'DOLocationID': '262', 'count': 2380}\n",
      "{'window': Row(start=datetime.datetime(2024, 4, 8, 21, 25), end=datetime.datetime(2024, 4, 8, 21, 30)), 'DOLocationID': '157', 'count': 2366}\n",
      "{'window': Row(start=datetime.datetime(2024, 4, 8, 21, 25), end=datetime.datetime(2024, 4, 8, 21, 30)), 'DOLocationID': '216', 'count': 2357}\n",
      "{'window': Row(start=datetime.datetime(2024, 4, 8, 21, 25), end=datetime.datetime(2024, 4, 8, 21, 30)), 'DOLocationID': '132', 'count': 2345}\n",
      "{'window': Row(start=datetime.datetime(2024, 4, 8, 21, 25), end=datetime.datetime(2024, 4, 8, 21, 30)), 'DOLocationID': '24', 'count': 2334}\n",
      "{'window': Row(start=datetime.datetime(2024, 4, 8, 21, 25), end=datetime.datetime(2024, 4, 8, 21, 30)), 'DOLocationID': '28', 'count': 2292}\n",
      "{'window': Row(start=datetime.datetime(2024, 4, 8, 21, 25), end=datetime.datetime(2024, 4, 8, 21, 30)), 'DOLocationID': '37', 'count': 2270}\n",
      "{'window': Row(start=datetime.datetime(2024, 4, 8, 21, 25), end=datetime.datetime(2024, 4, 8, 21, 30)), 'DOLocationID': '92', 'count': 2188}\n",
      "{'window': Row(start=datetime.datetime(2024, 4, 8, 21, 25), end=datetime.datetime(2024, 4, 8, 21, 30)), 'DOLocationID': '264', 'count': 2165}\n",
      "{'window': Row(start=datetime.datetime(2024, 4, 8, 21, 25), end=datetime.datetime(2024, 4, 8, 21, 30)), 'DOLocationID': '146', 'count': 2157}\n",
      "{'window': Row(start=datetime.datetime(2024, 4, 8, 21, 25), end=datetime.datetime(2024, 4, 8, 21, 30)), 'DOLocationID': '247', 'count': 2131}\n",
      "{'window': Row(start=datetime.datetime(2024, 4, 8, 21, 25), end=datetime.datetime(2024, 4, 8, 21, 30)), 'DOLocationID': '70', 'count': 2089}\n",
      "{'window': Row(start=datetime.datetime(2024, 4, 8, 21, 25), end=datetime.datetime(2024, 4, 8, 21, 30)), 'DOLocationID': '35', 'count': 2085}\n",
      "{'window': Row(start=datetime.datetime(2024, 4, 8, 21, 25), end=datetime.datetime(2024, 4, 8, 21, 30)), 'DOLocationID': '66', 'count': 2076}\n",
      "{'window': Row(start=datetime.datetime(2024, 4, 8, 21, 25), end=datetime.datetime(2024, 4, 8, 21, 30)), 'DOLocationID': '48', 'count': 2060}\n",
      "{'window': Row(start=datetime.datetime(2024, 4, 8, 21, 25), end=datetime.datetime(2024, 4, 8, 21, 30)), 'DOLocationID': '242', 'count': 2009}\n",
      "{'window': Row(start=datetime.datetime(2024, 4, 8, 21, 25), end=datetime.datetime(2024, 4, 8, 21, 30)), 'DOLocationID': '255', 'count': 2002}\n",
      "{'window': Row(start=datetime.datetime(2024, 4, 8, 21, 25), end=datetime.datetime(2024, 4, 8, 21, 30)), 'DOLocationID': '256', 'count': 1996}\n",
      "{'window': Row(start=datetime.datetime(2024, 4, 8, 21, 25), end=datetime.datetime(2024, 4, 8, 21, 30)), 'DOLocationID': '52', 'count': 1983}\n",
      "{'window': Row(start=datetime.datetime(2024, 4, 8, 21, 25), end=datetime.datetime(2024, 4, 8, 21, 30)), 'DOLocationID': '39', 'count': 1964}\n",
      "{'window': Row(start=datetime.datetime(2024, 4, 8, 21, 25), end=datetime.datetime(2024, 4, 8, 21, 30)), 'DOLocationID': '161', 'count': 1942}\n",
      "{'window': Row(start=datetime.datetime(2024, 4, 8, 21, 25), end=datetime.datetime(2024, 4, 8, 21, 30)), 'DOLocationID': '159', 'count': 1931}\n",
      "{'window': Row(start=datetime.datetime(2024, 4, 8, 21, 25), end=datetime.datetime(2024, 4, 8, 21, 30)), 'DOLocationID': '135', 'count': 1897}\n",
      "{'window': Row(start=datetime.datetime(2024, 4, 8, 21, 25), end=datetime.datetime(2024, 4, 8, 21, 30)), 'DOLocationID': '213', 'count': 1887}\n",
      "{'window': Row(start=datetime.datetime(2024, 4, 8, 21, 25), end=datetime.datetime(2024, 4, 8, 21, 30)), 'DOLocationID': '121', 'count': 1857}\n",
      "{'window': Row(start=datetime.datetime(2024, 4, 8, 21, 25), end=datetime.datetime(2024, 4, 8, 21, 30)), 'DOLocationID': '215', 'count': 1847}\n",
      "{'window': Row(start=datetime.datetime(2024, 4, 8, 21, 25), end=datetime.datetime(2024, 4, 8, 21, 30)), 'DOLocationID': '14', 'count': 1829}\n",
      "{'window': Row(start=datetime.datetime(2024, 4, 8, 21, 25), end=datetime.datetime(2024, 4, 8, 21, 30)), 'DOLocationID': '162', 'count': 1822}\n",
      "{'window': Row(start=datetime.datetime(2024, 4, 8, 21, 25), end=datetime.datetime(2024, 4, 8, 21, 30)), 'DOLocationID': '80', 'count': 1798}\n",
      "{'window': Row(start=datetime.datetime(2024, 4, 8, 21, 25), end=datetime.datetime(2024, 4, 8, 21, 30)), 'DOLocationID': '205', 'count': 1795}\n",
      "{'window': Row(start=datetime.datetime(2024, 4, 8, 21, 25), end=datetime.datetime(2024, 4, 8, 21, 30)), 'DOLocationID': '195', 'count': 1783}\n",
      "{'window': Row(start=datetime.datetime(2024, 4, 8, 21, 25), end=datetime.datetime(2024, 4, 8, 21, 30)), 'DOLocationID': '72', 'count': 1709}\n",
      "{'window': Row(start=datetime.datetime(2024, 4, 8, 21, 25), end=datetime.datetime(2024, 4, 8, 21, 30)), 'DOLocationID': '160', 'count': 1697}\n",
      "{'window': Row(start=datetime.datetime(2024, 4, 8, 21, 25), end=datetime.datetime(2024, 4, 8, 21, 30)), 'DOLocationID': '228', 'count': 1696}\n",
      "{'window': Row(start=datetime.datetime(2024, 4, 8, 21, 25), end=datetime.datetime(2024, 4, 8, 21, 30)), 'DOLocationID': '10', 'count': 1691}\n",
      "{'window': Row(start=datetime.datetime(2024, 4, 8, 21, 25), end=datetime.datetime(2024, 4, 8, 21, 30)), 'DOLocationID': '62', 'count': 1680}\n",
      "{'window': Row(start=datetime.datetime(2024, 4, 8, 21, 25), end=datetime.datetime(2024, 4, 8, 21, 30)), 'DOLocationID': '91', 'count': 1643}\n",
      "{'window': Row(start=datetime.datetime(2024, 4, 8, 21, 25), end=datetime.datetime(2024, 4, 8, 21, 30)), 'DOLocationID': '210', 'count': 1641}\n",
      "{'window': Row(start=datetime.datetime(2024, 4, 8, 21, 25), end=datetime.datetime(2024, 4, 8, 21, 30)), 'DOLocationID': '231', 'count': 1638}\n",
      "{'window': Row(start=datetime.datetime(2024, 4, 8, 21, 25), end=datetime.datetime(2024, 4, 8, 21, 30)), 'DOLocationID': '170', 'count': 1625}\n",
      "{'window': Row(start=datetime.datetime(2024, 4, 8, 21, 25), end=datetime.datetime(2024, 4, 8, 21, 30)), 'DOLocationID': '55', 'count': 1619}\n",
      "{'window': Row(start=datetime.datetime(2024, 4, 8, 21, 25), end=datetime.datetime(2024, 4, 8, 21, 30)), 'DOLocationID': '51', 'count': 1548}\n",
      "{'window': Row(start=datetime.datetime(2024, 4, 8, 21, 25), end=datetime.datetime(2024, 4, 8, 21, 30)), 'DOLocationID': '177', 'count': 1520}\n",
      "{'window': Row(start=datetime.datetime(2024, 4, 8, 21, 25), end=datetime.datetime(2024, 4, 8, 21, 30)), 'DOLocationID': '71', 'count': 1517}\n",
      "{'window': Row(start=datetime.datetime(2024, 4, 8, 21, 25), end=datetime.datetime(2024, 4, 8, 21, 30)), 'DOLocationID': '235', 'count': 1505}\n",
      "{'window': Row(start=datetime.datetime(2024, 4, 8, 21, 25), end=datetime.datetime(2024, 4, 8, 21, 30)), 'DOLocationID': '137', 'count': 1480}\n",
      "{'window': Row(start=datetime.datetime(2024, 4, 8, 21, 25), end=datetime.datetime(2024, 4, 8, 21, 30)), 'DOLocationID': '143', 'count': 1455}\n",
      "{'window': Row(start=datetime.datetime(2024, 4, 8, 21, 25), end=datetime.datetime(2024, 4, 8, 21, 30)), 'DOLocationID': '163', 'count': 1391}\n",
      "{'window': Row(start=datetime.datetime(2024, 4, 8, 21, 25), end=datetime.datetime(2024, 4, 8, 21, 30)), 'DOLocationID': '230', 'count': 1387}\n",
      "{'window': Row(start=datetime.datetime(2024, 4, 8, 21, 25), end=datetime.datetime(2024, 4, 8, 21, 30)), 'DOLocationID': '68', 'count': 1383}\n",
      "{'window': Row(start=datetime.datetime(2024, 4, 8, 21, 25), end=datetime.datetime(2024, 4, 8, 21, 30)), 'DOLocationID': '127', 'count': 1383}\n",
      "{'window': Row(start=datetime.datetime(2024, 4, 8, 21, 25), end=datetime.datetime(2024, 4, 8, 21, 30)), 'DOLocationID': '106', 'count': 1377}\n",
      "{'window': Row(start=datetime.datetime(2024, 4, 8, 21, 25), end=datetime.datetime(2024, 4, 8, 21, 30)), 'DOLocationID': '119', 'count': 1277}\n",
      "{'window': Row(start=datetime.datetime(2024, 4, 8, 21, 25), end=datetime.datetime(2024, 4, 8, 21, 30)), 'DOLocationID': '254', 'count': 1271}\n",
      "{'window': Row(start=datetime.datetime(2024, 4, 8, 21, 25), end=datetime.datetime(2024, 4, 8, 21, 30)), 'DOLocationID': '79', 'count': 1268}\n",
      "{'window': Row(start=datetime.datetime(2024, 4, 8, 21, 25), end=datetime.datetime(2024, 4, 8, 21, 30)), 'DOLocationID': '198', 'count': 1264}\n",
      "{'window': Row(start=datetime.datetime(2024, 4, 8, 21, 25), end=datetime.datetime(2024, 4, 8, 21, 30)), 'DOLocationID': '229', 'count': 1264}\n",
      "{'window': Row(start=datetime.datetime(2024, 4, 8, 21, 25), end=datetime.datetime(2024, 4, 8, 21, 30)), 'DOLocationID': '107', 'count': 1255}\n",
      "{'window': Row(start=datetime.datetime(2024, 4, 8, 21, 25), end=datetime.datetime(2024, 4, 8, 21, 30)), 'DOLocationID': '36', 'count': 1226}\n",
      "{'window': Row(start=datetime.datetime(2024, 4, 8, 21, 25), end=datetime.datetime(2024, 4, 8, 21, 30)), 'DOLocationID': '169', 'count': 1222}\n",
      "{'window': Row(start=datetime.datetime(2024, 4, 8, 21, 25), end=datetime.datetime(2024, 4, 8, 21, 30)), 'DOLocationID': '233', 'count': 1212}\n",
      "{'window': Row(start=datetime.datetime(2024, 4, 8, 21, 25), end=datetime.datetime(2024, 4, 8, 21, 30)), 'DOLocationID': '265', 'count': 1207}\n",
      "{'window': Row(start=datetime.datetime(2024, 4, 8, 21, 25), end=datetime.datetime(2024, 4, 8, 21, 30)), 'DOLocationID': '174', 'count': 1194}\n",
      "{'window': Row(start=datetime.datetime(2024, 4, 8, 21, 25), end=datetime.datetime(2024, 4, 8, 21, 30)), 'DOLocationID': '186', 'count': 1192}\n",
      "{'window': Row(start=datetime.datetime(2024, 4, 8, 21, 25), end=datetime.datetime(2024, 4, 8, 21, 30)), 'DOLocationID': '167', 'count': 1140}\n",
      "{'window': Row(start=datetime.datetime(2024, 4, 8, 21, 25), end=datetime.datetime(2024, 4, 8, 21, 30)), 'DOLocationID': '220', 'count': 1081}\n",
      "{'window': Row(start=datetime.datetime(2024, 4, 8, 21, 25), end=datetime.datetime(2024, 4, 8, 21, 30)), 'DOLocationID': '246', 'count': 1052}\n",
      "{'window': Row(start=datetime.datetime(2024, 4, 8, 21, 25), end=datetime.datetime(2024, 4, 8, 21, 30)), 'DOLocationID': '258', 'count': 1043}\n",
      "{'window': Row(start=datetime.datetime(2024, 4, 8, 21, 25), end=datetime.datetime(2024, 4, 8, 21, 30)), 'DOLocationID': '131', 'count': 1042}\n",
      "{'window': Row(start=datetime.datetime(2024, 4, 8, 21, 25), end=datetime.datetime(2024, 4, 8, 21, 30)), 'DOLocationID': '165', 'count': 1039}\n",
      "{'window': Row(start=datetime.datetime(2024, 4, 8, 21, 25), end=datetime.datetime(2024, 4, 8, 21, 30)), 'DOLocationID': '18', 'count': 1033}\n",
      "{'window': Row(start=datetime.datetime(2024, 4, 8, 21, 25), end=datetime.datetime(2024, 4, 8, 21, 30)), 'DOLocationID': '234', 'count': 1027}\n",
      "{'window': Row(start=datetime.datetime(2024, 4, 8, 21, 25), end=datetime.datetime(2024, 4, 8, 21, 30)), 'DOLocationID': '102', 'count': 1026}\n",
      "{'window': Row(start=datetime.datetime(2024, 4, 8, 21, 25), end=datetime.datetime(2024, 4, 8, 21, 30)), 'DOLocationID': '47', 'count': 1013}\n",
      "{'window': Row(start=datetime.datetime(2024, 4, 8, 21, 25), end=datetime.datetime(2024, 4, 8, 21, 30)), 'DOLocationID': '257', 'count': 1010}\n",
      "{'window': Row(start=datetime.datetime(2024, 4, 8, 21, 25), end=datetime.datetime(2024, 4, 8, 21, 30)), 'DOLocationID': '136', 'count': 1009}\n",
      "{'window': Row(start=datetime.datetime(2024, 4, 8, 21, 25), end=datetime.datetime(2024, 4, 8, 21, 30)), 'DOLocationID': '78', 'count': 1003}\n",
      "{'window': Row(start=datetime.datetime(2024, 4, 8, 21, 25), end=datetime.datetime(2024, 4, 8, 21, 30)), 'DOLocationID': '85', 'count': 984}\n",
      "{'window': Row(start=datetime.datetime(2024, 4, 8, 21, 25), end=datetime.datetime(2024, 4, 8, 21, 30)), 'DOLocationID': '148', 'count': 984}\n",
      "{'window': Row(start=datetime.datetime(2024, 4, 8, 21, 25), end=datetime.datetime(2024, 4, 8, 21, 30)), 'DOLocationID': '26', 'count': 983}\n",
      "{'window': Row(start=datetime.datetime(2024, 4, 8, 21, 25), end=datetime.datetime(2024, 4, 8, 21, 30)), 'DOLocationID': '164', 'count': 980}\n",
      "{'window': Row(start=datetime.datetime(2024, 4, 8, 21, 25), end=datetime.datetime(2024, 4, 8, 21, 30)), 'DOLocationID': '155', 'count': 956}\n",
      "{'window': Row(start=datetime.datetime(2024, 4, 8, 21, 25), end=datetime.datetime(2024, 4, 8, 21, 30)), 'DOLocationID': '218', 'count': 955}\n",
      "{'window': Row(start=datetime.datetime(2024, 4, 8, 21, 25), end=datetime.datetime(2024, 4, 8, 21, 30)), 'DOLocationID': '182', 'count': 955}\n",
      "{'window': Row(start=datetime.datetime(2024, 4, 8, 21, 25), end=datetime.datetime(2024, 4, 8, 21, 30)), 'DOLocationID': '77', 'count': 902}\n",
      "{'window': Row(start=datetime.datetime(2024, 4, 8, 21, 25), end=datetime.datetime(2024, 4, 8, 21, 30)), 'DOLocationID': '50', 'count': 894}\n",
      "{'window': Row(start=datetime.datetime(2024, 4, 8, 21, 25), end=datetime.datetime(2024, 4, 8, 21, 30)), 'DOLocationID': '54', 'count': 891}\n",
      "{'window': Row(start=datetime.datetime(2024, 4, 8, 21, 25), end=datetime.datetime(2024, 4, 8, 21, 30)), 'DOLocationID': '90', 'count': 882}\n",
      "{'window': Row(start=datetime.datetime(2024, 4, 8, 21, 25), end=datetime.datetime(2024, 4, 8, 21, 30)), 'DOLocationID': '185', 'count': 879}\n",
      "{'window': Row(start=datetime.datetime(2024, 4, 8, 21, 25), end=datetime.datetime(2024, 4, 8, 21, 30)), 'DOLocationID': '22', 'count': 859}\n",
      "{'window': Row(start=datetime.datetime(2024, 4, 8, 21, 25), end=datetime.datetime(2024, 4, 8, 21, 30)), 'DOLocationID': '227', 'count': 842}\n",
      "{'window': Row(start=datetime.datetime(2024, 4, 8, 21, 25), end=datetime.datetime(2024, 4, 8, 21, 30)), 'DOLocationID': '87', 'count': 840}\n",
      "{'window': Row(start=datetime.datetime(2024, 4, 8, 21, 25), end=datetime.datetime(2024, 4, 8, 21, 30)), 'DOLocationID': '123', 'count': 829}\n",
      "{'window': Row(start=datetime.datetime(2024, 4, 8, 21, 25), end=datetime.datetime(2024, 4, 8, 21, 30)), 'DOLocationID': '241', 'count': 805}\n",
      "{'window': Row(start=datetime.datetime(2024, 4, 8, 21, 25), end=datetime.datetime(2024, 4, 8, 21, 30)), 'DOLocationID': '250', 'count': 805}\n",
      "{'window': Row(start=datetime.datetime(2024, 4, 8, 21, 25), end=datetime.datetime(2024, 4, 8, 21, 30)), 'DOLocationID': '191', 'count': 797}\n",
      "{'window': Row(start=datetime.datetime(2024, 4, 8, 21, 25), end=datetime.datetime(2024, 4, 8, 21, 30)), 'DOLocationID': '208', 'count': 781}\n",
      "{'window': Row(start=datetime.datetime(2024, 4, 8, 21, 25), end=datetime.datetime(2024, 4, 8, 21, 30)), 'DOLocationID': '133', 'count': 768}\n",
      "{'window': Row(start=datetime.datetime(2024, 4, 8, 21, 25), end=datetime.datetime(2024, 4, 8, 21, 30)), 'DOLocationID': '29', 'count': 758}\n",
      "{'window': Row(start=datetime.datetime(2024, 4, 8, 21, 25), end=datetime.datetime(2024, 4, 8, 21, 30)), 'DOLocationID': '100', 'count': 757}\n",
      "{'window': Row(start=datetime.datetime(2024, 4, 8, 21, 25), end=datetime.datetime(2024, 4, 8, 21, 30)), 'DOLocationID': '212', 'count': 754}\n",
      "{'window': Row(start=datetime.datetime(2024, 4, 8, 21, 25), end=datetime.datetime(2024, 4, 8, 21, 30)), 'DOLocationID': '113', 'count': 753}\n",
      "{'window': Row(start=datetime.datetime(2024, 4, 8, 21, 25), end=datetime.datetime(2024, 4, 8, 21, 30)), 'DOLocationID': '45', 'count': 752}\n",
      "{'window': Row(start=datetime.datetime(2024, 4, 8, 21, 25), end=datetime.datetime(2024, 4, 8, 21, 30)), 'DOLocationID': '232', 'count': 741}\n",
      "{'window': Row(start=datetime.datetime(2024, 4, 8, 21, 25), end=datetime.datetime(2024, 4, 8, 21, 30)), 'DOLocationID': '117', 'count': 728}\n",
      "{'window': Row(start=datetime.datetime(2024, 4, 8, 21, 25), end=datetime.datetime(2024, 4, 8, 21, 30)), 'DOLocationID': '171', 'count': 718}\n",
      "{'window': Row(start=datetime.datetime(2024, 4, 8, 21, 25), end=datetime.datetime(2024, 4, 8, 21, 30)), 'DOLocationID': '126', 'count': 703}\n",
      "{'window': Row(start=datetime.datetime(2024, 4, 8, 21, 25), end=datetime.datetime(2024, 4, 8, 21, 30)), 'DOLocationID': '249', 'count': 698}\n",
      "{'window': Row(start=datetime.datetime(2024, 4, 8, 21, 25), end=datetime.datetime(2024, 4, 8, 21, 30)), 'DOLocationID': '53', 'count': 671}\n",
      "{'window': Row(start=datetime.datetime(2024, 4, 8, 21, 25), end=datetime.datetime(2024, 4, 8, 21, 30)), 'DOLocationID': '81', 'count': 664}\n",
      "{'window': Row(start=datetime.datetime(2024, 4, 8, 21, 25), end=datetime.datetime(2024, 4, 8, 21, 30)), 'DOLocationID': '21', 'count': 663}\n",
      "{'window': Row(start=datetime.datetime(2024, 4, 8, 21, 25), end=datetime.datetime(2024, 4, 8, 21, 30)), 'DOLocationID': '63', 'count': 657}\n",
      "{'window': Row(start=datetime.datetime(2024, 4, 8, 21, 25), end=datetime.datetime(2024, 4, 8, 21, 30)), 'DOLocationID': '192', 'count': 654}\n",
      "{'window': Row(start=datetime.datetime(2024, 4, 8, 21, 25), end=datetime.datetime(2024, 4, 8, 21, 30)), 'DOLocationID': '222', 'count': 645}\n",
      "{'window': Row(start=datetime.datetime(2024, 4, 8, 21, 25), end=datetime.datetime(2024, 4, 8, 21, 30)), 'DOLocationID': '150', 'count': 643}\n",
      "{'window': Row(start=datetime.datetime(2024, 4, 8, 21, 25), end=datetime.datetime(2024, 4, 8, 21, 30)), 'DOLocationID': '144', 'count': 633}\n",
      "{'window': Row(start=datetime.datetime(2024, 4, 8, 21, 25), end=datetime.datetime(2024, 4, 8, 21, 30)), 'DOLocationID': '248', 'count': 629}\n",
      "{'window': Row(start=datetime.datetime(2024, 4, 8, 21, 25), end=datetime.datetime(2024, 4, 8, 21, 30)), 'DOLocationID': '108', 'count': 628}\n",
      "{'window': Row(start=datetime.datetime(2024, 4, 8, 21, 25), end=datetime.datetime(2024, 4, 8, 21, 30)), 'DOLocationID': '20', 'count': 620}\n",
      "{'window': Row(start=datetime.datetime(2024, 4, 8, 21, 25), end=datetime.datetime(2024, 4, 8, 21, 30)), 'DOLocationID': '259', 'count': 620}\n",
      "{'window': Row(start=datetime.datetime(2024, 4, 8, 21, 25), end=datetime.datetime(2024, 4, 8, 21, 30)), 'DOLocationID': '147', 'count': 617}\n",
      "{'window': Row(start=datetime.datetime(2024, 4, 8, 21, 25), end=datetime.datetime(2024, 4, 8, 21, 30)), 'DOLocationID': '32', 'count': 608}\n",
      "{'window': Row(start=datetime.datetime(2024, 4, 8, 21, 25), end=datetime.datetime(2024, 4, 8, 21, 30)), 'DOLocationID': '149', 'count': 596}\n",
      "{'window': Row(start=datetime.datetime(2024, 4, 8, 21, 25), end=datetime.datetime(2024, 4, 8, 21, 30)), 'DOLocationID': '3', 'count': 592}\n",
      "{'window': Row(start=datetime.datetime(2024, 4, 8, 21, 25), end=datetime.datetime(2024, 4, 8, 21, 30)), 'DOLocationID': '219', 'count': 587}\n",
      "{'window': Row(start=datetime.datetime(2024, 4, 8, 21, 25), end=datetime.datetime(2024, 4, 8, 21, 30)), 'DOLocationID': '60', 'count': 567}\n",
      "{'window': Row(start=datetime.datetime(2024, 4, 8, 21, 25), end=datetime.datetime(2024, 4, 8, 21, 30)), 'DOLocationID': '200', 'count': 564}\n",
      "{'window': Row(start=datetime.datetime(2024, 4, 8, 21, 25), end=datetime.datetime(2024, 4, 8, 21, 30)), 'DOLocationID': '217', 'count': 563}\n",
      "{'window': Row(start=datetime.datetime(2024, 4, 8, 21, 25), end=datetime.datetime(2024, 4, 8, 21, 30)), 'DOLocationID': '93', 'count': 530}\n",
      "{'window': Row(start=datetime.datetime(2024, 4, 8, 21, 25), end=datetime.datetime(2024, 4, 8, 21, 30)), 'DOLocationID': '88', 'count': 523}\n",
      "{'window': Row(start=datetime.datetime(2024, 4, 8, 21, 25), end=datetime.datetime(2024, 4, 8, 21, 30)), 'DOLocationID': '209', 'count': 523}\n",
      "{'window': Row(start=datetime.datetime(2024, 4, 8, 21, 25), end=datetime.datetime(2024, 4, 8, 21, 30)), 'DOLocationID': '86', 'count': 506}\n",
      "{'window': Row(start=datetime.datetime(2024, 4, 8, 21, 25), end=datetime.datetime(2024, 4, 8, 21, 30)), 'DOLocationID': '190', 'count': 498}\n",
      "{'window': Row(start=datetime.datetime(2024, 4, 8, 21, 25), end=datetime.datetime(2024, 4, 8, 21, 30)), 'DOLocationID': '139', 'count': 494}\n",
      "{'window': Row(start=datetime.datetime(2024, 4, 8, 21, 25), end=datetime.datetime(2024, 4, 8, 21, 30)), 'DOLocationID': '203', 'count': 490}\n",
      "{'window': Row(start=datetime.datetime(2024, 4, 8, 21, 25), end=datetime.datetime(2024, 4, 8, 21, 30)), 'DOLocationID': '4', 'count': 490}\n",
      "{'window': Row(start=datetime.datetime(2024, 4, 8, 21, 25), end=datetime.datetime(2024, 4, 8, 21, 30)), 'DOLocationID': '252', 'count': 489}\n",
      "{'window': Row(start=datetime.datetime(2024, 4, 8, 21, 25), end=datetime.datetime(2024, 4, 8, 21, 30)), 'DOLocationID': '16', 'count': 486}\n",
      "{'window': Row(start=datetime.datetime(2024, 4, 8, 21, 25), end=datetime.datetime(2024, 4, 8, 21, 30)), 'DOLocationID': '13', 'count': 485}\n",
      "{'window': Row(start=datetime.datetime(2024, 4, 8, 21, 25), end=datetime.datetime(2024, 4, 8, 21, 30)), 'DOLocationID': '261', 'count': 485}\n",
      "{'window': Row(start=datetime.datetime(2024, 4, 8, 21, 25), end=datetime.datetime(2024, 4, 8, 21, 30)), 'DOLocationID': '114', 'count': 473}\n",
      "{'window': Row(start=datetime.datetime(2024, 4, 8, 21, 25), end=datetime.datetime(2024, 4, 8, 21, 30)), 'DOLocationID': '94', 'count': 470}\n",
      "{'window': Row(start=datetime.datetime(2024, 4, 8, 21, 25), end=datetime.datetime(2024, 4, 8, 21, 30)), 'DOLocationID': '122', 'count': 465}\n",
      "{'window': Row(start=datetime.datetime(2024, 4, 8, 21, 25), end=datetime.datetime(2024, 4, 8, 21, 30)), 'DOLocationID': '67', 'count': 463}\n",
      "{'window': Row(start=datetime.datetime(2024, 4, 8, 21, 25), end=datetime.datetime(2024, 4, 8, 21, 30)), 'DOLocationID': '158', 'count': 420}\n",
      "{'window': Row(start=datetime.datetime(2024, 4, 8, 21, 25), end=datetime.datetime(2024, 4, 8, 21, 30)), 'DOLocationID': '9', 'count': 412}\n",
      "{'window': Row(start=datetime.datetime(2024, 4, 8, 21, 25), end=datetime.datetime(2024, 4, 8, 21, 30)), 'DOLocationID': '11', 'count': 412}\n",
      "{'window': Row(start=datetime.datetime(2024, 4, 8, 21, 25), end=datetime.datetime(2024, 4, 8, 21, 30)), 'DOLocationID': '34', 'count': 406}\n",
      "{'window': Row(start=datetime.datetime(2024, 4, 8, 21, 25), end=datetime.datetime(2024, 4, 8, 21, 30)), 'DOLocationID': '38', 'count': 405}\n",
      "{'window': Row(start=datetime.datetime(2024, 4, 8, 21, 25), end=datetime.datetime(2024, 4, 8, 21, 30)), 'DOLocationID': '98', 'count': 404}\n",
      "{'window': Row(start=datetime.datetime(2024, 4, 8, 21, 25), end=datetime.datetime(2024, 4, 8, 21, 30)), 'DOLocationID': '124', 'count': 397}\n",
      "{'window': Row(start=datetime.datetime(2024, 4, 8, 21, 25), end=datetime.datetime(2024, 4, 8, 21, 30)), 'DOLocationID': '73', 'count': 386}\n",
      "{'window': Row(start=datetime.datetime(2024, 4, 8, 21, 25), end=datetime.datetime(2024, 4, 8, 21, 30)), 'DOLocationID': '211', 'count': 368}\n",
      "{'window': Row(start=datetime.datetime(2024, 4, 8, 21, 25), end=datetime.datetime(2024, 4, 8, 21, 30)), 'DOLocationID': '19', 'count': 352}\n",
      "{'window': Row(start=datetime.datetime(2024, 4, 8, 21, 25), end=datetime.datetime(2024, 4, 8, 21, 30)), 'DOLocationID': '183', 'count': 302}\n",
      "{'window': Row(start=datetime.datetime(2024, 4, 8, 21, 25), end=datetime.datetime(2024, 4, 8, 21, 30)), 'DOLocationID': '175', 'count': 294}\n",
      "{'window': Row(start=datetime.datetime(2024, 4, 8, 21, 25), end=datetime.datetime(2024, 4, 8, 21, 30)), 'DOLocationID': '15', 'count': 281}\n",
      "{'window': Row(start=datetime.datetime(2024, 4, 8, 21, 25), end=datetime.datetime(2024, 4, 8, 21, 30)), 'DOLocationID': '224', 'count': 278}\n",
      "{'window': Row(start=datetime.datetime(2024, 4, 8, 21, 25), end=datetime.datetime(2024, 4, 8, 21, 30)), 'DOLocationID': '180', 'count': 269}\n",
      "{'window': Row(start=datetime.datetime(2024, 4, 8, 21, 25), end=datetime.datetime(2024, 4, 8, 21, 30)), 'DOLocationID': '101', 'count': 254}\n",
      "{'window': Row(start=datetime.datetime(2024, 4, 8, 21, 25), end=datetime.datetime(2024, 4, 8, 21, 30)), 'DOLocationID': '178', 'count': 247}\n",
      "{'window': Row(start=datetime.datetime(2024, 4, 8, 21, 25), end=datetime.datetime(2024, 4, 8, 21, 30)), 'DOLocationID': '202', 'count': 246}\n",
      "{'window': Row(start=datetime.datetime(2024, 4, 8, 21, 25), end=datetime.datetime(2024, 4, 8, 21, 30)), 'DOLocationID': '31', 'count': 245}\n",
      "{'window': Row(start=datetime.datetime(2024, 4, 8, 21, 25), end=datetime.datetime(2024, 4, 8, 21, 30)), 'DOLocationID': '194', 'count': 244}\n",
      "{'window': Row(start=datetime.datetime(2024, 4, 8, 21, 25), end=datetime.datetime(2024, 4, 8, 21, 30)), 'DOLocationID': '125', 'count': 244}\n",
      "{'window': Row(start=datetime.datetime(2024, 4, 8, 21, 25), end=datetime.datetime(2024, 4, 8, 21, 30)), 'DOLocationID': '153', 'count': 210}\n",
      "{'window': Row(start=datetime.datetime(2024, 4, 8, 21, 25), end=datetime.datetime(2024, 4, 8, 21, 30)), 'DOLocationID': '240', 'count': 209}\n",
      "{'window': Row(start=datetime.datetime(2024, 4, 8, 21, 25), end=datetime.datetime(2024, 4, 8, 21, 30)), 'DOLocationID': '96', 'count': 203}\n",
      "{'window': Row(start=datetime.datetime(2024, 4, 8, 21, 25), end=datetime.datetime(2024, 4, 8, 21, 30)), 'DOLocationID': '57', 'count': 194}\n",
      "{'window': Row(start=datetime.datetime(2024, 4, 8, 21, 25), end=datetime.datetime(2024, 4, 8, 21, 30)), 'DOLocationID': '201', 'count': 191}\n",
      "{'window': Row(start=datetime.datetime(2024, 4, 8, 21, 25), end=datetime.datetime(2024, 4, 8, 21, 30)), 'DOLocationID': '128', 'count': 178}\n",
      "{'window': Row(start=datetime.datetime(2024, 4, 8, 21, 25), end=datetime.datetime(2024, 4, 8, 21, 30)), 'DOLocationID': '64', 'count': 178}\n",
      "{'window': Row(start=datetime.datetime(2024, 4, 8, 21, 25), end=datetime.datetime(2024, 4, 8, 21, 30)), 'DOLocationID': '1', 'count': 166}\n",
      "{'window': Row(start=datetime.datetime(2024, 4, 8, 21, 25), end=datetime.datetime(2024, 4, 8, 21, 30)), 'DOLocationID': '120', 'count': 143}\n",
      "{'window': Row(start=datetime.datetime(2024, 4, 8, 21, 25), end=datetime.datetime(2024, 4, 8, 21, 30)), 'DOLocationID': '207', 'count': 118}\n",
      "{'window': Row(start=datetime.datetime(2024, 4, 8, 21, 25), end=datetime.datetime(2024, 4, 8, 21, 30)), 'DOLocationID': '46', 'count': 107}\n",
      "{'window': Row(start=datetime.datetime(2024, 4, 8, 21, 25), end=datetime.datetime(2024, 4, 8, 21, 30)), 'DOLocationID': '184', 'count': 103}\n",
      "{'window': Row(start=datetime.datetime(2024, 4, 8, 21, 25), end=datetime.datetime(2024, 4, 8, 21, 30)), 'DOLocationID': '58', 'count': 95}\n",
      "{'window': Row(start=datetime.datetime(2024, 4, 8, 21, 25), end=datetime.datetime(2024, 4, 8, 21, 30)), 'DOLocationID': '154', 'count': 79}\n",
      "{'window': Row(start=datetime.datetime(2024, 4, 8, 21, 25), end=datetime.datetime(2024, 4, 8, 21, 30)), 'DOLocationID': '115', 'count': 68}\n",
      "{'window': Row(start=datetime.datetime(2024, 4, 8, 21, 25), end=datetime.datetime(2024, 4, 8, 21, 30)), 'DOLocationID': '27', 'count': 56}\n",
      "{'window': Row(start=datetime.datetime(2024, 4, 8, 21, 25), end=datetime.datetime(2024, 4, 8, 21, 30)), 'DOLocationID': '111', 'count': 54}\n",
      "{'window': Row(start=datetime.datetime(2024, 4, 8, 21, 25), end=datetime.datetime(2024, 4, 8, 21, 30)), 'DOLocationID': '253', 'count': 51}\n",
      "{'window': Row(start=datetime.datetime(2024, 4, 8, 21, 25), end=datetime.datetime(2024, 4, 8, 21, 30)), 'DOLocationID': '156', 'count': 45}\n",
      "{'window': Row(start=datetime.datetime(2024, 4, 8, 21, 25), end=datetime.datetime(2024, 4, 8, 21, 30)), 'DOLocationID': '8', 'count': 41}\n",
      "{'window': Row(start=datetime.datetime(2024, 4, 8, 21, 25), end=datetime.datetime(2024, 4, 8, 21, 30)), 'DOLocationID': '59', 'count': 33}\n",
      "{'window': Row(start=datetime.datetime(2024, 4, 8, 21, 25), end=datetime.datetime(2024, 4, 8, 21, 30)), 'DOLocationID': '12', 'count': 27}\n",
      "{'window': Row(start=datetime.datetime(2024, 4, 8, 21, 25), end=datetime.datetime(2024, 4, 8, 21, 30)), 'DOLocationID': '206', 'count': 26}\n",
      "{'window': Row(start=datetime.datetime(2024, 4, 8, 21, 25), end=datetime.datetime(2024, 4, 8, 21, 30)), 'DOLocationID': '187', 'count': 24}\n",
      "{'window': Row(start=datetime.datetime(2024, 4, 8, 21, 25), end=datetime.datetime(2024, 4, 8, 21, 30)), 'DOLocationID': '221', 'count': 21}\n",
      "{'window': Row(start=datetime.datetime(2024, 4, 8, 21, 25), end=datetime.datetime(2024, 4, 8, 21, 30)), 'DOLocationID': '30', 'count': 18}\n",
      "{'window': Row(start=datetime.datetime(2024, 4, 8, 21, 25), end=datetime.datetime(2024, 4, 8, 21, 30)), 'DOLocationID': '118', 'count': 17}\n",
      "{'window': Row(start=datetime.datetime(2024, 4, 8, 21, 25), end=datetime.datetime(2024, 4, 8, 21, 30)), 'DOLocationID': '214', 'count': 17}\n",
      "{'window': Row(start=datetime.datetime(2024, 4, 8, 21, 25), end=datetime.datetime(2024, 4, 8, 21, 30)), 'DOLocationID': '23', 'count': 15}\n",
      "{'window': Row(start=datetime.datetime(2024, 4, 8, 21, 25), end=datetime.datetime(2024, 4, 8, 21, 30)), 'DOLocationID': '251', 'count': 14}\n",
      "{'window': Row(start=datetime.datetime(2024, 4, 8, 21, 25), end=datetime.datetime(2024, 4, 8, 21, 30)), 'DOLocationID': '6', 'count': 11}\n",
      "{'window': Row(start=datetime.datetime(2024, 4, 8, 21, 25), end=datetime.datetime(2024, 4, 8, 21, 30)), 'DOLocationID': '172', 'count': 10}\n",
      "{'window': Row(start=datetime.datetime(2024, 4, 8, 21, 25), end=datetime.datetime(2024, 4, 8, 21, 30)), 'DOLocationID': '44', 'count': 9}\n",
      "{'window': Row(start=datetime.datetime(2024, 4, 8, 21, 25), end=datetime.datetime(2024, 4, 8, 21, 30)), 'DOLocationID': '2', 'count': 9}\n",
      "{'window': Row(start=datetime.datetime(2024, 4, 8, 21, 25), end=datetime.datetime(2024, 4, 8, 21, 30)), 'DOLocationID': '204', 'count': 5}\n",
      "{'window': Row(start=datetime.datetime(2024, 4, 8, 21, 25), end=datetime.datetime(2024, 4, 8, 21, 30)), 'DOLocationID': '176', 'count': 5}\n",
      "{'window': Row(start=datetime.datetime(2024, 4, 8, 21, 25), end=datetime.datetime(2024, 4, 8, 21, 30)), 'DOLocationID': '245', 'count': 5}\n",
      "{'window': Row(start=datetime.datetime(2024, 4, 8, 21, 25), end=datetime.datetime(2024, 4, 8, 21, 30)), 'DOLocationID': '84', 'count': 5}\n",
      "{'window': Row(start=datetime.datetime(2024, 4, 8, 21, 25), end=datetime.datetime(2024, 4, 8, 21, 30)), 'DOLocationID': '5', 'count': 3}\n",
      "{'window': Row(start=datetime.datetime(2024, 4, 8, 21, 25), end=datetime.datetime(2024, 4, 8, 21, 30)), 'DOLocationID': '109', 'count': 3}\n",
      "{'window': Row(start=datetime.datetime(2024, 4, 8, 21, 25), end=datetime.datetime(2024, 4, 8, 21, 30)), 'DOLocationID': '99', 'count': 1}\n",
      "{'window': Row(start=datetime.datetime(2024, 4, 8, 21, 25), end=datetime.datetime(2024, 4, 8, 21, 30)), 'DOLocationID': '105', 'count': 1}\n"
     ]
    }
   ],
   "source": [
    "popular_destinations_pd = popular_destinations.toPandas()\n",
    "\n",
    "for row in popular_destinations_pd.itertuples(index=False):\n",
    "    row_dict = {col: getattr(row, col) for col in row._fields}\n",
    "    print(row_dict)"
   ]
  },
  {
   "cell_type": "code",
   "execution_count": 13,
   "metadata": {},
   "outputs": [],
   "source": [
    "#from pyspark.sql import types\n",
    "\n",
    "#schema = types.StructType() \\\n",
    "#    .add(\"window\", types.StringType()) \\\n",
    "#    .add(\"DOLocationID\", types.IntegerType()) \\\n",
    "#    .add(\"count\", types.IntegerType())"
   ]
  },
  {
   "cell_type": "code",
   "execution_count": 25,
   "metadata": {},
   "outputs": [
    {
     "data": {
      "text/plain": [
       "Index(['window', 'DOLocationID', 'count'], dtype='object')"
      ]
     },
     "execution_count": 25,
     "metadata": {},
     "output_type": "execute_result"
    }
   ],
   "source": [
    "popular_destinations_pd.columns"
   ]
  },
  {
   "cell_type": "code",
   "execution_count": 26,
   "metadata": {},
   "outputs": [
    {
     "name": "stdout",
     "output_type": "stream",
     "text": [
      "took 0.03 seconds\n"
     ]
    }
   ],
   "source": [
    "# producer sends row by row the df data to the pop-dest topic\n",
    "popular_destinations_pd['window'] = popular_destinations_pd['window'].astype(str)\n",
    "\n",
    "\n",
    "t0 = time.time()\n",
    "\n",
    "topic_name = 'pop-dest'\n",
    "\n",
    "for row in popular_destinations_pd.itertuples(index=False):\n",
    "    message = {col: getattr(row, col) for col in row._fields}\n",
    "    producer.send(topic_name, value=message)\n",
    "    #print(f\"Sent: {message}\")\n",
    "    #time.sleep(0.05)\n",
    "\n",
    "producer.flush()\n",
    "\n",
    "t1 = time.time()\n",
    "print(f'took {(t1 - t0):.2f} seconds')"
   ]
  },
  {
   "cell_type": "code",
   "execution_count": 31,
   "metadata": {},
   "outputs": [],
   "source": [
    "pop_dest_stream = spark \\\n",
    "    .readStream \\\n",
    "    .format(\"kafka\") \\\n",
    "    .option(\"kafka.bootstrap.servers\", \"localhost:9092\") \\\n",
    "    .option(\"subscribe\", \"pop-dest\") \\\n",
    "    .option(\"startingOffsets\", \"earliest\") \\\n",
    "    .load()\n",
    "\n",
    "#popular_destinations = popular_destinations \\\n",
    "#  .select(F.from_json(F.col(\"value\").cast('STRING'), schema).alias(\"data\")) \\\n",
    "#  .select(\"data.*\")"
   ]
  },
  {
   "cell_type": "code",
   "execution_count": 32,
   "metadata": {},
   "outputs": [
    {
     "name": "stdout",
     "output_type": "stream",
     "text": [
      "24/04/08 21:35:03 WARN ResolveWriteToStream: Temporary checkpoint location created which is deleted normally when the query didn't fail: /tmp/temporary-b3d71725-ee16-44f1-bcd4-834e5ebb4773. If it's required to delete it under any circumstances, please set spark.sql.streaming.forceDeleteTempCheckpointLocation to true. Important to know deleting temp checkpoint folder is best effort.\n",
      "24/04/08 21:35:03 WARN ResolveWriteToStream: spark.sql.adaptive.enabled is not supported in streaming DataFrames/Datasets and will be disabled.\n"
     ]
    },
    {
     "ename": "AnalysisException",
     "evalue": "Complete output mode not supported when there are no streaming aggregations on streaming DataFrames/Datasets;\nkafka",
     "output_type": "error",
     "traceback": [
      "\u001b[0;31m---------------------------------------------------------------------------\u001b[0m",
      "\u001b[0;31mAnalysisException\u001b[0m                         Traceback (most recent call last)",
      "Cell \u001b[0;32mIn[32], line 6\u001b[0m\n\u001b[1;32m      1\u001b[0m query \u001b[38;5;241m=\u001b[39m \u001b[43mpop_dest_stream\u001b[49m\u001b[43m \u001b[49m\u001b[43m\\\u001b[49m\n\u001b[1;32m      2\u001b[0m \u001b[43m    \u001b[49m\u001b[38;5;241;43m.\u001b[39;49m\u001b[43mwriteStream\u001b[49m\u001b[43m \u001b[49m\u001b[43m\\\u001b[49m\n\u001b[1;32m      3\u001b[0m \u001b[43m    \u001b[49m\u001b[38;5;241;43m.\u001b[39;49m\u001b[43moutputMode\u001b[49m\u001b[43m(\u001b[49m\u001b[38;5;124;43m\"\u001b[39;49m\u001b[38;5;124;43mcomplete\u001b[39;49m\u001b[38;5;124;43m\"\u001b[39;49m\u001b[43m)\u001b[49m\u001b[43m \u001b[49m\u001b[43m\\\u001b[49m\n\u001b[1;32m      4\u001b[0m \u001b[43m    \u001b[49m\u001b[38;5;241;43m.\u001b[39;49m\u001b[43mformat\u001b[49m\u001b[43m(\u001b[49m\u001b[38;5;124;43m\"\u001b[39;49m\u001b[38;5;124;43mconsole\u001b[39;49m\u001b[38;5;124;43m\"\u001b[39;49m\u001b[43m)\u001b[49m\u001b[43m \u001b[49m\u001b[43m\\\u001b[49m\n\u001b[1;32m      5\u001b[0m \u001b[43m    \u001b[49m\u001b[38;5;241;43m.\u001b[39;49m\u001b[43moption\u001b[49m\u001b[43m(\u001b[49m\u001b[38;5;124;43m\"\u001b[39;49m\u001b[38;5;124;43mtruncate\u001b[39;49m\u001b[38;5;124;43m\"\u001b[39;49m\u001b[43m,\u001b[49m\u001b[43m \u001b[49m\u001b[38;5;124;43m\"\u001b[39;49m\u001b[38;5;124;43mfalse\u001b[39;49m\u001b[38;5;124;43m\"\u001b[39;49m\u001b[43m)\u001b[49m\u001b[43m \u001b[49m\u001b[43m\\\u001b[49m\n\u001b[0;32m----> 6\u001b[0m \u001b[43m    \u001b[49m\u001b[38;5;241;43m.\u001b[39;49m\u001b[43mstart\u001b[49m\u001b[43m(\u001b[49m\u001b[43m)\u001b[49m\n\u001b[1;32m      8\u001b[0m query\u001b[38;5;241m.\u001b[39mawaitTermination()\n",
      "File \u001b[0;32m/usr/local/sdkman/candidates/spark/current/python/pyspark/sql/streaming.py:1389\u001b[0m, in \u001b[0;36mDataStreamWriter.start\u001b[0;34m(self, path, format, outputMode, partitionBy, queryName, **options)\u001b[0m\n\u001b[1;32m   1387\u001b[0m     \u001b[38;5;28mself\u001b[39m\u001b[38;5;241m.\u001b[39mqueryName(queryName)\n\u001b[1;32m   1388\u001b[0m \u001b[38;5;28;01mif\u001b[39;00m path \u001b[38;5;129;01mis\u001b[39;00m \u001b[38;5;28;01mNone\u001b[39;00m:\n\u001b[0;32m-> 1389\u001b[0m     \u001b[38;5;28;01mreturn\u001b[39;00m \u001b[38;5;28mself\u001b[39m\u001b[38;5;241m.\u001b[39m_sq(\u001b[38;5;28;43mself\u001b[39;49m\u001b[38;5;241;43m.\u001b[39;49m\u001b[43m_jwrite\u001b[49m\u001b[38;5;241;43m.\u001b[39;49m\u001b[43mstart\u001b[49m\u001b[43m(\u001b[49m\u001b[43m)\u001b[49m)\n\u001b[1;32m   1390\u001b[0m \u001b[38;5;28;01melse\u001b[39;00m:\n\u001b[1;32m   1391\u001b[0m     \u001b[38;5;28;01mreturn\u001b[39;00m \u001b[38;5;28mself\u001b[39m\u001b[38;5;241m.\u001b[39m_sq(\u001b[38;5;28mself\u001b[39m\u001b[38;5;241m.\u001b[39m_jwrite\u001b[38;5;241m.\u001b[39mstart(path))\n",
      "File \u001b[0;32m/usr/local/sdkman/candidates/spark/current/python/lib/py4j-0.10.9.5-src.zip/py4j/java_gateway.py:1321\u001b[0m, in \u001b[0;36mJavaMember.__call__\u001b[0;34m(self, *args)\u001b[0m\n\u001b[1;32m   1315\u001b[0m command \u001b[38;5;241m=\u001b[39m proto\u001b[38;5;241m.\u001b[39mCALL_COMMAND_NAME \u001b[38;5;241m+\u001b[39m\\\n\u001b[1;32m   1316\u001b[0m     \u001b[38;5;28mself\u001b[39m\u001b[38;5;241m.\u001b[39mcommand_header \u001b[38;5;241m+\u001b[39m\\\n\u001b[1;32m   1317\u001b[0m     args_command \u001b[38;5;241m+\u001b[39m\\\n\u001b[1;32m   1318\u001b[0m     proto\u001b[38;5;241m.\u001b[39mEND_COMMAND_PART\n\u001b[1;32m   1320\u001b[0m answer \u001b[38;5;241m=\u001b[39m \u001b[38;5;28mself\u001b[39m\u001b[38;5;241m.\u001b[39mgateway_client\u001b[38;5;241m.\u001b[39msend_command(command)\n\u001b[0;32m-> 1321\u001b[0m return_value \u001b[38;5;241m=\u001b[39m \u001b[43mget_return_value\u001b[49m\u001b[43m(\u001b[49m\n\u001b[1;32m   1322\u001b[0m \u001b[43m    \u001b[49m\u001b[43manswer\u001b[49m\u001b[43m,\u001b[49m\u001b[43m \u001b[49m\u001b[38;5;28;43mself\u001b[39;49m\u001b[38;5;241;43m.\u001b[39;49m\u001b[43mgateway_client\u001b[49m\u001b[43m,\u001b[49m\u001b[43m \u001b[49m\u001b[38;5;28;43mself\u001b[39;49m\u001b[38;5;241;43m.\u001b[39;49m\u001b[43mtarget_id\u001b[49m\u001b[43m,\u001b[49m\u001b[43m \u001b[49m\u001b[38;5;28;43mself\u001b[39;49m\u001b[38;5;241;43m.\u001b[39;49m\u001b[43mname\u001b[49m\u001b[43m)\u001b[49m\n\u001b[1;32m   1324\u001b[0m \u001b[38;5;28;01mfor\u001b[39;00m temp_arg \u001b[38;5;129;01min\u001b[39;00m temp_args:\n\u001b[1;32m   1325\u001b[0m     temp_arg\u001b[38;5;241m.\u001b[39m_detach()\n",
      "File \u001b[0;32m/usr/local/sdkman/candidates/spark/current/python/pyspark/sql/utils.py:196\u001b[0m, in \u001b[0;36mcapture_sql_exception.<locals>.deco\u001b[0;34m(*a, **kw)\u001b[0m\n\u001b[1;32m    192\u001b[0m converted \u001b[38;5;241m=\u001b[39m convert_exception(e\u001b[38;5;241m.\u001b[39mjava_exception)\n\u001b[1;32m    193\u001b[0m \u001b[38;5;28;01mif\u001b[39;00m \u001b[38;5;129;01mnot\u001b[39;00m \u001b[38;5;28misinstance\u001b[39m(converted, UnknownException):\n\u001b[1;32m    194\u001b[0m     \u001b[38;5;66;03m# Hide where the exception came from that shows a non-Pythonic\u001b[39;00m\n\u001b[1;32m    195\u001b[0m     \u001b[38;5;66;03m# JVM exception message.\u001b[39;00m\n\u001b[0;32m--> 196\u001b[0m     \u001b[38;5;28;01mraise\u001b[39;00m converted \u001b[38;5;28;01mfrom\u001b[39;00m \u001b[38;5;28;01mNone\u001b[39;00m\n\u001b[1;32m    197\u001b[0m \u001b[38;5;28;01melse\u001b[39;00m:\n\u001b[1;32m    198\u001b[0m     \u001b[38;5;28;01mraise\u001b[39;00m\n",
      "\u001b[0;31mAnalysisException\u001b[0m: Complete output mode not supported when there are no streaming aggregations on streaming DataFrames/Datasets;\nkafka"
     ]
    }
   ],
   "source": [
    "query = pop_dest_stream \\\n",
    "    .writeStream \\\n",
    "    .outputMode(\"complete\") \\\n",
    "    .format(\"console\") \\\n",
    "    .option(\"truncate\", \"false\") \\\n",
    "    .start()\n",
    "\n",
    "query.awaitTermination()"
   ]
  },
  {
   "cell_type": "code",
   "execution_count": null,
   "metadata": {},
   "outputs": [],
   "source": [
    "query.stop()"
   ]
  }
 ],
 "metadata": {
  "kernelspec": {
   "display_name": "Python 3",
   "language": "python",
   "name": "python3"
  },
  "language_info": {
   "codemirror_mode": {
    "name": "ipython",
    "version": 3
   },
   "file_extension": ".py",
   "mimetype": "text/x-python",
   "name": "python",
   "nbconvert_exporter": "python",
   "pygments_lexer": "ipython3",
   "version": "3.10.13"
  }
 },
 "nbformat": 4,
 "nbformat_minor": 2
}
