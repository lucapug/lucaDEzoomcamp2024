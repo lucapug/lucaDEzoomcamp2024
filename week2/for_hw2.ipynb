{
 "cells": [
  {
   "cell_type": "code",
   "execution_count": 1,
   "metadata": {},
   "outputs": [],
   "source": [
    "import pandas as pd"
   ]
  },
  {
   "cell_type": "code",
   "execution_count": 2,
   "metadata": {},
   "outputs": [
    {
     "name": "stderr",
     "output_type": "stream",
     "text": [
      "/tmp/ipykernel_1824/3248642474.py:1: DtypeWarning: Columns (3) have mixed types. Specify dtype option on import or set low_memory=False.\n",
      "  df = pd.read_csv('green_tripdata_2020-10.csv.gz', sep=',', compression='gzip')\n"
     ]
    }
   ],
   "source": [
    "df = pd.read_csv('green_tripdata_2020-10.csv.gz', sep=',', compression='gzip')"
   ]
  },
  {
   "cell_type": "code",
   "execution_count": 3,
   "metadata": {},
   "outputs": [
    {
     "data": {
      "text/plain": [
       "(95120, 20)"
      ]
     },
     "execution_count": 3,
     "metadata": {},
     "output_type": "execute_result"
    }
   ],
   "source": [
    "df.shape"
   ]
  },
  {
   "cell_type": "code",
   "execution_count": 26,
   "metadata": {},
   "outputs": [
    {
     "name": "stdout",
     "output_type": "stream",
     "text": [
      "<class 'pandas.core.frame.DataFrame'>\n",
      "Index: 44231 entries, 0 to 46291\n",
      "Data columns (total 20 columns):\n",
      " #   Column                 Non-Null Count  Dtype         \n",
      "---  ------                 --------------  -----         \n",
      " 0   vendor_id              44231 non-null  Int64         \n",
      " 1   lpep_pickup_datetime   44231 non-null  datetime64[ns]\n",
      " 2   lpep_dropoff_datetime  44231 non-null  datetime64[ns]\n",
      " 3   store_and_fwd_flag     44231 non-null  object        \n",
      " 4   ratecode_id            44231 non-null  Int64         \n",
      " 5   pulocation_id          44231 non-null  Int64         \n",
      " 6   dolocation_id          44231 non-null  Int64         \n",
      " 7   passenger_count        44231 non-null  Int64         \n",
      " 8   trip_distance          44231 non-null  float64       \n",
      " 9   fare_amount            44231 non-null  float64       \n",
      " 10  extra                  44231 non-null  float64       \n",
      " 11  mta_tax                44231 non-null  float64       \n",
      " 12  tip_amount             44231 non-null  float64       \n",
      " 13  tolls_amount           44231 non-null  float64       \n",
      " 14  ehail_fee              0 non-null      float64       \n",
      " 15  improvement_surcharge  44231 non-null  float64       \n",
      " 16  total_amount           44231 non-null  float64       \n",
      " 17  payment_type           44231 non-null  Int64         \n",
      " 18  trip_type              44231 non-null  Int64         \n",
      " 19  congestion_surcharge   44231 non-null  float64       \n",
      "dtypes: Int64(7), datetime64[ns](2), float64(10), object(1)\n",
      "memory usage: 7.4+ MB\n"
     ]
    }
   ],
   "source": [
    "df.info()"
   ]
  },
  {
   "cell_type": "code",
   "execution_count": null,
   "metadata": {},
   "outputs": [],
   "source": [
    "df.dtypes"
   ]
  },
  {
   "cell_type": "code",
   "execution_count": null,
   "metadata": {},
   "outputs": [],
   "source": [
    "df.head()"
   ]
  },
  {
   "cell_type": "code",
   "execution_count": 4,
   "metadata": {},
   "outputs": [],
   "source": [
    "df.columns = (df.columns\n",
    "                .str.replace('(?<=[a-z])(?=[A-Z])', '_', regex=True)\n",
    "                .str.lower()\n",
    "             )"
   ]
  },
  {
   "cell_type": "code",
   "execution_count": null,
   "metadata": {},
   "outputs": [],
   "source": [
    "df.info()"
   ]
  },
  {
   "cell_type": "code",
   "execution_count": 5,
   "metadata": {},
   "outputs": [],
   "source": [
    "parse_dates = ['lpep_pickup_datetime', 'lpep_dropoff_datetime']"
   ]
  },
  {
   "cell_type": "code",
   "execution_count": 6,
   "metadata": {},
   "outputs": [],
   "source": [
    "prefix='https://github.com/DataTalksClub/nyc-tlc-data/releases/download/green/green_tripdata_2020-'\n",
    "months=['10','11','12']"
   ]
  },
  {
   "cell_type": "code",
   "execution_count": 7,
   "metadata": {},
   "outputs": [],
   "source": [
    "taxi_dtypes = {\n",
    "                    'VendorID': pd.Int64Dtype(),\n",
    "                    'passenger_count': pd.Int64Dtype(),\n",
    "                    'trip_distance': float,\n",
    "                    'RatecodeID':pd.Int64Dtype(),\n",
    "                    'store_and_fwd_flag':str,\n",
    "                    'PULocationID':pd.Int64Dtype(),\n",
    "                    'DOLocationID':pd.Int64Dtype(),\n",
    "                    'payment_type': pd.Int64Dtype(),\n",
    "                    'fare_amount': float,\n",
    "                    'extra':float,\n",
    "                    'mta_tax':float,\n",
    "                    'tip_amount':float,\n",
    "                    'tolls_amount':float,\n",
    "                    'ehail_fee' :float,\n",
    "                    'improvement_surcharge':float,\n",
    "                    'total_amount':float,\n",
    "                    'congestion_surcharge':float,\n",
    "                    'trip_type':pd.Int64Dtype()\n",
    "                }"
   ]
  },
  {
   "cell_type": "code",
   "execution_count": 32,
   "metadata": {},
   "outputs": [
    {
     "name": "stdout",
     "output_type": "stream",
     "text": [
      "prova {'RatecodeID', 'DOLocationID', 'PULocationID', 'VendorID'}\n",
      "10 (95120, 20)\n",
      "10 (49269, 20)\n",
      "10 <IntegerArray>\n",
      "[2, 1]\n",
      "Length: 2, dtype: Int64\n",
      "10 [1, 2, 6, 3, 5, 4, 8, 9]\n",
      "10 0 0\n",
      "int64\n",
      "prova {'RatecodeID', 'DOLocationID', 'PULocationID', 'VendorID'}\n",
      "11 (88605, 20)\n",
      "11 (45870, 20)\n",
      "11 <IntegerArray>\n",
      "[2, 1]\n",
      "Length: 2, dtype: Int64\n",
      "11 [1, 2, 6, 5, 3, 4, 7, 8]\n",
      "11 0 0\n",
      "int64\n",
      "prova {'RatecodeID', 'DOLocationID', 'PULocationID', 'VendorID'}\n",
      "12 (83130, 20)\n",
      "12 (44231, 20)\n",
      "12 <IntegerArray>\n",
      "[2, 1]\n",
      "Length: 2, dtype: Int64\n",
      "12 [1, 2, 5, 6, 4, 3]\n",
      "12 0 0\n",
      "int64\n"
     ]
    }
   ],
   "source": [
    "for month in months:\n",
    "    url = prefix+month+'.csv.gz'\n",
    "    df = pd.read_csv(url, sep=',', compression='gzip', dtype=taxi_dtypes, parse_dates=parse_dates)\n",
    "    \n",
    "    old_names = list(df.columns)\n",
    "    \n",
    "    df.columns = (df.columns\n",
    "                .str.replace('(?<=[a-z])(?=[A-Z])', '_', regex=True)\n",
    "                .str.lower()\n",
    "             )\n",
    "    \n",
    "    new_names = list(df.columns)\n",
    "    \n",
    "    print('prova', set(old_names) - (set(old_names).intersection(new_names)))\n",
    "    \n",
    "    print(month, df.shape)\n",
    "    \n",
    "    df=df.loc[(df['trip_distance'] != 0) & (df['passenger_count'] != 0)]\n",
    "    \n",
    "    print(month, df.shape)\n",
    "    print(month, df['vendor_id'].unique())\n",
    "    print(month, list(df['passenger_count'].unique()))\n",
    "    print(month, df['passenger_count'].isin([0]).sum(),\n",
    "          df['trip_distance'].isin([0]).sum())\n",
    "    temp = list(df['passenger_count'].unique())\n",
    "    print(temp[0].dtype)"
   ]
  },
  {
   "cell_type": "code",
   "execution_count": 18,
   "metadata": {},
   "outputs": [
    {
     "data": {
      "text/plain": [
       "266855"
      ]
     },
     "execution_count": 18,
     "metadata": {},
     "output_type": "execute_result"
    }
   ],
   "source": [
    "95120+88605+83130"
   ]
  },
  {
   "cell_type": "code",
   "execution_count": 23,
   "metadata": {},
   "outputs": [
    {
     "data": {
      "text/plain": [
       "139370"
      ]
     },
     "execution_count": 23,
     "metadata": {},
     "output_type": "execute_result"
    }
   ],
   "source": [
    "49269+45870+44231"
   ]
  },
  {
   "cell_type": "code",
   "execution_count": null,
   "metadata": {},
   "outputs": [],
   "source": [
    "parse_dates = ['lpep_pickup_datetime', 'lpep_dropoff_datetime']\n",
    "\n",
    "df = pd.read_csv('green_tripdata_2020-10.csv.gz', \n",
    "                  sep=',', compression='gzip', parse_dates=parse_dates)\n"
   ]
  },
  {
   "cell_type": "code",
   "execution_count": null,
   "metadata": {},
   "outputs": [],
   "source": [
    "df['lpep_pickup_date']= df['lpep_pickup_datetime'].dt.date"
   ]
  },
  {
   "cell_type": "code",
   "execution_count": null,
   "metadata": {},
   "outputs": [],
   "source": [
    "df.head()"
   ]
  },
  {
   "cell_type": "code",
   "execution_count": null,
   "metadata": {},
   "outputs": [],
   "source": [
    "df.info()"
   ]
  },
  {
   "cell_type": "code",
   "execution_count": null,
   "metadata": {},
   "outputs": [],
   "source": [
    "df['lpep_pickup_date'] = pd.to_datetime(df['lpep_pickup_date'])"
   ]
  },
  {
   "cell_type": "code",
   "execution_count": null,
   "metadata": {},
   "outputs": [],
   "source": [
    "df.info()"
   ]
  },
  {
   "cell_type": "code",
   "execution_count": null,
   "metadata": {},
   "outputs": [],
   "source": [
    "df=df.loc[(df['trip_distance'] > 0.0) & (df['passenger_count'] > 0)]"
   ]
  },
  {
   "cell_type": "code",
   "execution_count": null,
   "metadata": {},
   "outputs": [],
   "source": [
    "df['passenger_count'].isin([0]).sum()"
   ]
  },
  {
   "cell_type": "code",
   "execution_count": null,
   "metadata": {},
   "outputs": [],
   "source": [
    "df['trip_distance'].isin([0]).sum()"
   ]
  }
 ],
 "metadata": {
  "kernelspec": {
   "display_name": "Python 3",
   "language": "python",
   "name": "python3"
  },
  "language_info": {
   "codemirror_mode": {
    "name": "ipython",
    "version": 3
   },
   "file_extension": ".py",
   "mimetype": "text/x-python",
   "name": "python",
   "nbconvert_exporter": "python",
   "pygments_lexer": "ipython3",
   "version": "3.10.13"
  }
 },
 "nbformat": 4,
 "nbformat_minor": 2
}
